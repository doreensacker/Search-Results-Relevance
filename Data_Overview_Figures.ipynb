{
 "cells": [
  {
   "cell_type": "code",
   "execution_count": 1,
   "metadata": {},
   "outputs": [],
   "source": [
    "import pandas as pd\n",
    "%matplotlib inline\n",
    "import matplotlib.pyplot as plt\n",
    "import numpy as np"
   ]
  },
  {
   "cell_type": "code",
   "execution_count": 17,
   "metadata": {},
   "outputs": [],
   "source": [
    "data = pd.read_csv('data/train.csv')"
   ]
  },
  {
   "cell_type": "code",
   "execution_count": 3,
   "metadata": {},
   "outputs": [
    {
     "data": {
      "text/html": [
       "<div>\n",
       "<style scoped>\n",
       "    .dataframe tbody tr th:only-of-type {\n",
       "        vertical-align: middle;\n",
       "    }\n",
       "\n",
       "    .dataframe tbody tr th {\n",
       "        vertical-align: top;\n",
       "    }\n",
       "\n",
       "    .dataframe thead th {\n",
       "        text-align: right;\n",
       "    }\n",
       "</style>\n",
       "<table border=\"1\" class=\"dataframe\">\n",
       "  <thead>\n",
       "    <tr style=\"text-align: right;\">\n",
       "      <th></th>\n",
       "      <th>id</th>\n",
       "      <th>query</th>\n",
       "      <th>product_title</th>\n",
       "      <th>product_description</th>\n",
       "      <th>median_relevance</th>\n",
       "      <th>relevance_variance</th>\n",
       "    </tr>\n",
       "  </thead>\n",
       "  <tbody>\n",
       "    <tr>\n",
       "      <th>0</th>\n",
       "      <td>1</td>\n",
       "      <td>bridal shower decorations</td>\n",
       "      <td>Accent Pillow with Heart Design - Red/Black</td>\n",
       "      <td>Red satin accent pillow embroidered with a hea...</td>\n",
       "      <td>1</td>\n",
       "      <td>0.000</td>\n",
       "    </tr>\n",
       "    <tr>\n",
       "      <th>1</th>\n",
       "      <td>2</td>\n",
       "      <td>led christmas lights</td>\n",
       "      <td>Set of 10 Battery Operated Multi LED Train Chr...</td>\n",
       "      <td>Set of 10 Battery Operated Train Christmas Lig...</td>\n",
       "      <td>4</td>\n",
       "      <td>0.000</td>\n",
       "    </tr>\n",
       "    <tr>\n",
       "      <th>2</th>\n",
       "      <td>4</td>\n",
       "      <td>projector</td>\n",
       "      <td>ViewSonic Pro8200 DLP Multimedia Projector</td>\n",
       "      <td>NaN</td>\n",
       "      <td>4</td>\n",
       "      <td>0.471</td>\n",
       "    </tr>\n",
       "    <tr>\n",
       "      <th>3</th>\n",
       "      <td>5</td>\n",
       "      <td>wine rack</td>\n",
       "      <td>Concept Housewares WR-44526 Solid-Wood Ceiling...</td>\n",
       "      <td>Like a silent and sturdy tree, the Southern En...</td>\n",
       "      <td>4</td>\n",
       "      <td>0.000</td>\n",
       "    </tr>\n",
       "    <tr>\n",
       "      <th>4</th>\n",
       "      <td>7</td>\n",
       "      <td>light bulb</td>\n",
       "      <td>Wintergreen Lighting Christmas LED Light Bulb ...</td>\n",
       "      <td>WTGR1011\\nFeatures\\nNickel base, 60,000 averag...</td>\n",
       "      <td>2</td>\n",
       "      <td>0.471</td>\n",
       "    </tr>\n",
       "    <tr>\n",
       "      <th>5</th>\n",
       "      <td>8</td>\n",
       "      <td>oakley polarized radar</td>\n",
       "      <td>Oakley Sunglasses - Radar Path Polished Black/...</td>\n",
       "      <td>Durability and all-day comfort of lightweight,...</td>\n",
       "      <td>3</td>\n",
       "      <td>1.166</td>\n",
       "    </tr>\n",
       "    <tr>\n",
       "      <th>6</th>\n",
       "      <td>10</td>\n",
       "      <td>boyfriend jeans</td>\n",
       "      <td>How To Make An American Quilt (DVD)</td>\n",
       "      <td>ITEM#: 2518897\\nDirector Jocelyn Moorhouse's f...</td>\n",
       "      <td>1</td>\n",
       "      <td>0.000</td>\n",
       "    </tr>\n",
       "    <tr>\n",
       "      <th>7</th>\n",
       "      <td>13</td>\n",
       "      <td>screen protector samsung</td>\n",
       "      <td>ZAGG InvisibleShield Cell Phone Screen Protect...</td>\n",
       "      <td>Protect your most precious technology with the...</td>\n",
       "      <td>4</td>\n",
       "      <td>0.000</td>\n",
       "    </tr>\n",
       "    <tr>\n",
       "      <th>8</th>\n",
       "      <td>17</td>\n",
       "      <td>pots and pans set</td>\n",
       "      <td>Cook N Home Stainless Steel 4-Piece Pasta Cook...</td>\n",
       "      <td>This ultimate pasta and vegetable steamer cook...</td>\n",
       "      <td>2</td>\n",
       "      <td>0.632</td>\n",
       "    </tr>\n",
       "    <tr>\n",
       "      <th>9</th>\n",
       "      <td>20</td>\n",
       "      <td>waffle maker</td>\n",
       "      <td>Presto FlipSide Electric Waffle Maker- 03510</td>\n",
       "      <td>Please the waffle lover in your family with th...</td>\n",
       "      <td>4</td>\n",
       "      <td>0.471</td>\n",
       "    </tr>\n",
       "  </tbody>\n",
       "</table>\n",
       "</div>"
      ],
      "text/plain": [
       "   id                      query  \\\n",
       "0   1  bridal shower decorations   \n",
       "1   2       led christmas lights   \n",
       "2   4                  projector   \n",
       "3   5                  wine rack   \n",
       "4   7                 light bulb   \n",
       "5   8     oakley polarized radar   \n",
       "6  10            boyfriend jeans   \n",
       "7  13   screen protector samsung   \n",
       "8  17          pots and pans set   \n",
       "9  20               waffle maker   \n",
       "\n",
       "                                       product_title  \\\n",
       "0        Accent Pillow with Heart Design - Red/Black   \n",
       "1  Set of 10 Battery Operated Multi LED Train Chr...   \n",
       "2         ViewSonic Pro8200 DLP Multimedia Projector   \n",
       "3  Concept Housewares WR-44526 Solid-Wood Ceiling...   \n",
       "4  Wintergreen Lighting Christmas LED Light Bulb ...   \n",
       "5  Oakley Sunglasses - Radar Path Polished Black/...   \n",
       "6                How To Make An American Quilt (DVD)   \n",
       "7  ZAGG InvisibleShield Cell Phone Screen Protect...   \n",
       "8  Cook N Home Stainless Steel 4-Piece Pasta Cook...   \n",
       "9       Presto FlipSide Electric Waffle Maker- 03510   \n",
       "\n",
       "                                 product_description  median_relevance  \\\n",
       "0  Red satin accent pillow embroidered with a hea...                 1   \n",
       "1  Set of 10 Battery Operated Train Christmas Lig...                 4   \n",
       "2                                                NaN                 4   \n",
       "3  Like a silent and sturdy tree, the Southern En...                 4   \n",
       "4  WTGR1011\\nFeatures\\nNickel base, 60,000 averag...                 2   \n",
       "5  Durability and all-day comfort of lightweight,...                 3   \n",
       "6  ITEM#: 2518897\\nDirector Jocelyn Moorhouse's f...                 1   \n",
       "7  Protect your most precious technology with the...                 4   \n",
       "8  This ultimate pasta and vegetable steamer cook...                 2   \n",
       "9  Please the waffle lover in your family with th...                 4   \n",
       "\n",
       "   relevance_variance  \n",
       "0               0.000  \n",
       "1               0.000  \n",
       "2               0.471  \n",
       "3               0.000  \n",
       "4               0.471  \n",
       "5               1.166  \n",
       "6               0.000  \n",
       "7               0.000  \n",
       "8               0.632  \n",
       "9               0.471  "
      ]
     },
     "metadata": {},
     "output_type": "display_data"
    }
   ],
   "source": [
    "with pd.option_context('display.max_rows', 200, 'display.max_columns', None):\n",
    "    display(data.head(10))"
   ]
  },
  {
   "cell_type": "code",
   "execution_count": 5,
   "metadata": {},
   "outputs": [
    {
     "data": {
      "text/plain": [
       "count    10158.000000\n",
       "mean         3.309805\n",
       "std          0.980666\n",
       "min          1.000000\n",
       "25%          3.000000\n",
       "50%          4.000000\n",
       "75%          4.000000\n",
       "max          4.000000\n",
       "Name: median_relevance, dtype: float64"
      ]
     },
     "execution_count": 5,
     "metadata": {},
     "output_type": "execute_result"
    }
   ],
   "source": [
    "data.median_relevance.describe()"
   ]
  },
  {
   "cell_type": "code",
   "execution_count": 6,
   "metadata": {},
   "outputs": [
    {
     "data": {
      "text/plain": [
       "count    10158.000000\n",
       "mean         0.377863\n",
       "std          0.389707\n",
       "min          0.000000\n",
       "25%          0.000000\n",
       "50%          0.471000\n",
       "75%          0.471000\n",
       "max          1.470000\n",
       "Name: relevance_variance, dtype: float64"
      ]
     },
     "execution_count": 6,
     "metadata": {},
     "output_type": "execute_result"
    }
   ],
   "source": [
    "data.relevance_variance.describe()"
   ]
  },
  {
   "cell_type": "code",
   "execution_count": 21,
   "metadata": {},
   "outputs": [
    {
     "data": {
      "text/plain": [
       "count              10158\n",
       "unique               261\n",
       "top       wireless mouse\n",
       "freq                 113\n",
       "Name: query, dtype: object"
      ]
     },
     "execution_count": 21,
     "metadata": {},
     "output_type": "execute_result"
    }
   ],
   "source": [
    "data['query'].describe()"
   ]
  },
  {
   "cell_type": "code",
   "execution_count": 23,
   "metadata": {},
   "outputs": [
    {
     "data": {
      "text/plain": [
       "261"
      ]
     },
     "execution_count": 23,
     "metadata": {},
     "output_type": "execute_result"
    }
   ],
   "source": [
    "len(data['query'].unique())"
   ]
  },
  {
   "cell_type": "code",
   "execution_count": 25,
   "metadata": {},
   "outputs": [],
   "source": [
    "group = data.groupby(data['query'])"
   ]
  },
  {
   "cell_type": "code",
   "execution_count": 26,
   "metadata": {},
   "outputs": [
    {
     "data": {
      "text/plain": [
       "38.91954022988506"
      ]
     },
     "execution_count": 26,
     "metadata": {},
     "output_type": "execute_result"
    }
   ],
   "source": [
    "#Products per Searchquery\n",
    "group.size().sum()/261"
   ]
  },
  {
   "cell_type": "code",
   "execution_count": 27,
   "metadata": {
    "scrolled": true
   },
   "outputs": [
    {
     "data": {
      "text/plain": [
       "query\n",
       "16 gb memory card                     64\n",
       "8 ounce mason jars                    10\n",
       "acoustic guitar clamp                 30\n",
       "adidas fragance                       28\n",
       "adidas pants                          24\n",
       "an extremely goofy movie              21\n",
       "anime necklace                        15\n",
       "apple iphone 32 gb otterbox           18\n",
       "aqua shoes                            47\n",
       "aroma diffuser                        54\n",
       "assassinss creed                      54\n",
       "aveeno shampoo                        51\n",
       "barbie                                45\n",
       "baseball cleats                       29\n",
       "baseball photo frame                  28\n",
       "batman                                44\n",
       "beats headphones                      33\n",
       "bedspreads                            44\n",
       "beer stein                            22\n",
       "bike for children                     44\n",
       "bike lock                             84\n",
       "bird seed feeder                      51\n",
       "blender                               45\n",
       "blendtec                              27\n",
       "blue mini fridge                      34\n",
       "bluesky gel nail polish               31\n",
       "bluetooth speaker                     62\n",
       "bluray hobbit extended                22\n",
       "boyfriend jeans                       37\n",
       "brett favre ny titans jersey blue     34\n",
       "                                    ... \n",
       "vanilla scented perfumes              55\n",
       "vanity fair bras                      34\n",
       "vans backpack                         28\n",
       "victoria secret pink shorts           22\n",
       "victorias secret lace gown            19\n",
       "videogames ps4                        37\n",
       "volcom short                          14\n",
       "waffle maker                          47\n",
       "wall clocks                           55\n",
       "wall mirrors                          29\n",
       "watch women fossil                    40\n",
       "werewolf costume                      23\n",
       "white dress                           55\n",
       "white jeans                           29\n",
       "white plain dinner set                29\n",
       "wii                                   51\n",
       "wii gamepad                           35\n",
       "wii microphone                        31\n",
       "wine rack                             53\n",
       "wired xbox 360 controller             30\n",
       "wireless mouse                       113\n",
       "workout clothes for women             48\n",
       "wreck it ralph                        53\n",
       "yankee candle                         29\n",
       "yankees                               36\n",
       "yellow dress                          41\n",
       "yoga mat                              33\n",
       "yoga pants                            42\n",
       "zippo                                 35\n",
       "zippo hand warmer                     30\n",
       "Name: id, Length: 261, dtype: int64"
      ]
     },
     "execution_count": 27,
     "metadata": {},
     "output_type": "execute_result"
    }
   ],
   "source": [
    "group.id.size()"
   ]
  },
  {
   "cell_type": "code",
   "execution_count": 28,
   "metadata": {
    "scrolled": false
   },
   "outputs": [
    {
     "data": {
      "text/plain": [
       "6"
      ]
     },
     "execution_count": 28,
     "metadata": {},
     "output_type": "execute_result"
    }
   ],
   "source": [
    "len(data.columns)"
   ]
  },
  {
   "cell_type": "code",
   "execution_count": 29,
   "metadata": {
    "scrolled": false
   },
   "outputs": [
    {
     "data": {
      "text/plain": [
       "4    6171\n",
       "3    1737\n",
       "2    1476\n",
       "1     774\n",
       "Name: median_relevance, dtype: int64"
      ]
     },
     "execution_count": 29,
     "metadata": {},
     "output_type": "execute_result"
    }
   ],
   "source": [
    "data.median_relevance.value_counts()"
   ]
  },
  {
   "cell_type": "code",
   "execution_count": 30,
   "metadata": {},
   "outputs": [
    {
     "data": {
      "image/png": "[encoded data removed]",
      "text/plain": [
       "<Figure size 360x216 with 1 Axes>"
      ]
     },
     "metadata": {},
     "output_type": "display_data"
    }
   ],
   "source": [
    "%matplotlib inline\n",
    "data.median_relevance.hist(bins=50, figsize=(5,3))\n",
    "plt.show()"
   ]
  }
 ],
 "metadata": {
  "kernelspec": {
   "display_name": "Python 3",
   "language": "python",
   "name": "python3"
  },
  "language_info": {
   "codemirror_mode": {
    "name": "ipython",
    "version": 3
   },
   "file_extension": ".py",
   "mimetype": "text/x-python",
   "name": "python",
   "nbconvert_exporter": "python",
   "pygments_lexer": "ipython3",
   "version": "3.7.0"
  }
 },
 "nbformat": 4,
 "nbformat_minor": 2
}
